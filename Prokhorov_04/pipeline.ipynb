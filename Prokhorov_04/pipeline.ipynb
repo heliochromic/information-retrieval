{
 "cells": [
  {
   "cell_type": "code",
   "execution_count": 1,
   "id": "initial_id",
   "metadata": {
    "collapsed": true,
    "ExecuteTime": {
     "end_time": "2024-02-29T10:10:13.189535Z",
     "start_time": "2024-02-29T10:10:12.996661700Z"
    }
   },
   "outputs": [],
   "source": [
    "from file_parser import trie_builder, permuterm_index, word_rotate, word_permuterm_preprocess, trie_index, \\\n",
    "    k_word_splitter, k_gram_builder"
   ]
  },
  {
   "cell_type": "code",
   "outputs": [],
   "source": [
    "path = 'Dataset'\n",
    "size = 10\n",
    "\n",
    "prefixes, suffixes = trie_builder(path=path, size=size)\n",
    "permuterm_trie = permuterm_index(path=path, size=size)\n",
    "k_gram_dict = k_gram_builder(path=path, size=size)"
   ],
   "metadata": {
    "collapsed": false,
    "ExecuteTime": {
     "end_time": "2024-02-29T10:17:50.399464Z",
     "start_time": "2024-02-29T10:17:10.670030300Z"
    }
   },
   "id": "b1b5409f2e77ebb1",
   "execution_count": 3
  },
  {
   "cell_type": "code",
   "outputs": [],
   "source": [
    "query = 'wh*'\n"
   ],
   "metadata": {
    "collapsed": false,
    "ExecuteTime": {
     "end_time": "2024-02-29T10:36:52.471575100Z",
     "start_time": "2024-02-29T10:36:52.437057600Z"
    }
   },
   "id": "765ee3b82ec38ae3",
   "execution_count": 57
  },
  {
   "cell_type": "code",
   "outputs": [
    {
     "data": {
      "text/plain": "(['whar',\n  'what',\n  \"what's\",\n  'whatever',\n  'whatsoever',\n  'wheel',\n  'wheelbarrow',\n  'wheeled',\n  'wheels',\n  'when',\n  'whence',\n  'whenever',\n  'whenoh',\n  'where',\n  \"where'er\",\n  \"where's\",\n  'whereabouts',\n  'whereas',\n  'whereat',\n  'whereby',\n  'wherein',\n  'whereof',\n  'whereon',\n  'wheresoever',\n  'whereupon',\n  'wherever',\n  'wherewith',\n  'whether',\n  'which',\n  'whichever',\n  'whig',\n  'while',\n  'whiled',\n  'whiles',\n  'whilst',\n  'whim',\n  'whimsical',\n  'whined',\n  'whining',\n  'whip',\n  'whipped',\n  'whippoorwill',\n  'whirl',\n  'whirled',\n  'whirr',\n  'whirrr',\n  'whirrrr',\n  'whisked',\n  'whiskers',\n  'whisper',\n  'whispered',\n  'whisperor',\n  \"whispersomethin'\",\n  'whistle',\n  'whistles',\n  'whistling',\n  'whit',\n  'white',\n  'whitehaired',\n  'whitelle',\n  'whiten',\n  'whitened',\n  'whiteness',\n  'whiter',\n  'whites',\n  'whitest',\n  'whitewash',\n  'whither',\n  'whittles',\n  'who',\n  \"who'd\",\n  'whoaed',\n  'whole',\n  'wholesale',\n  'wholly',\n  'whom',\n  \"whoopin'\",\n  'whose',\n  'why'],\n 79)"
     },
     "execution_count": 58,
     "metadata": {},
     "output_type": "execute_result"
    }
   ],
   "source": [
    "result = word_rotate(permuterm_trie.startsWith(word_permuterm_preprocess(joker=query)))\n",
    "sorted(result), len(result)"
   ],
   "metadata": {
    "collapsed": false,
    "ExecuteTime": {
     "end_time": "2024-02-29T10:36:52.543714300Z",
     "start_time": "2024-02-29T10:36:52.485104100Z"
    }
   },
   "id": "ba956891d6b68b8a",
   "execution_count": 58
  },
  {
   "cell_type": "code",
   "outputs": [
    {
     "data": {
      "text/plain": "(['whar',\n  'what',\n  \"what's\",\n  'whatever',\n  'whatsoever',\n  'wheel',\n  'wheelbarrow',\n  'wheeled',\n  'wheels',\n  'when',\n  'whence',\n  'whenever',\n  'whenoh',\n  'where',\n  \"where'er\",\n  \"where's\",\n  'whereabouts',\n  'whereas',\n  'whereat',\n  'whereby',\n  'wherein',\n  'whereof',\n  'whereon',\n  'wheresoever',\n  'whereupon',\n  'wherever',\n  'wherewith',\n  'whether',\n  'which',\n  'whichever',\n  'whig',\n  'while',\n  'whiled',\n  'whiles',\n  'whilst',\n  'whim',\n  'whimsical',\n  'whined',\n  'whining',\n  'whip',\n  'whipped',\n  'whippoorwill',\n  'whirl',\n  'whirled',\n  'whirr',\n  'whirrr',\n  'whirrrr',\n  'whisked',\n  'whiskers',\n  'whisper',\n  'whispered',\n  'whisperor',\n  \"whispersomethin'\",\n  'whistle',\n  'whistles',\n  'whistling',\n  'whit',\n  'white',\n  'whitehaired',\n  'whitelle',\n  'whiten',\n  'whitened',\n  'whiteness',\n  'whiter',\n  'whites',\n  'whitest',\n  'whitewash',\n  'whither',\n  'whittles',\n  'who',\n  \"who'd\",\n  'whoaed',\n  'whole',\n  'wholesale',\n  'wholly',\n  'whom',\n  \"whoopin'\",\n  'whose',\n  'why'],\n 79)"
     },
     "execution_count": 59,
     "metadata": {},
     "output_type": "execute_result"
    }
   ],
   "source": [
    "intersection = trie_index(prefixes, suffixes, query)\n",
    "sorted(intersection), len(intersection)"
   ],
   "metadata": {
    "collapsed": false,
    "ExecuteTime": {
     "end_time": "2024-02-29T10:36:55.735140100Z",
     "start_time": "2024-02-29T10:36:55.539000900Z"
    }
   },
   "id": "ba33a4db307f4d5c",
   "execution_count": 59
  },
  {
   "cell_type": "code",
   "outputs": [
    {
     "data": {
      "text/plain": "(['whar',\n  'what',\n  \"what's\",\n  'whatever',\n  'whatsoever',\n  'wheel',\n  'wheelbarrow',\n  'wheeled',\n  'wheels',\n  'when',\n  'whence',\n  'whenever',\n  'whenoh',\n  'where',\n  \"where'er\",\n  \"where's\",\n  'whereabouts',\n  'whereas',\n  'whereat',\n  'whereby',\n  'wherein',\n  'whereof',\n  'whereon',\n  'wheresoever',\n  'whereupon',\n  'wherever',\n  'wherewith',\n  'whether',\n  'which',\n  'whichever',\n  'whig',\n  'while',\n  'whiled',\n  'whiles',\n  'whilst',\n  'whim',\n  'whimsical',\n  'whined',\n  'whining',\n  'whip',\n  'whipped',\n  'whippoorwill',\n  'whirl',\n  'whirled',\n  'whirr',\n  'whirrr',\n  'whirrrr',\n  'whisked',\n  'whiskers',\n  'whisper',\n  'whispered',\n  'whisperor',\n  \"whispersomethin'\",\n  'whistle',\n  'whistles',\n  'whistling',\n  'whit',\n  'white',\n  'whitehaired',\n  'whitelle',\n  'whiten',\n  'whitened',\n  'whiteness',\n  'whiter',\n  'whites',\n  'whitest',\n  'whitewash',\n  'whither',\n  'whittles',\n  'who',\n  \"who'd\",\n  'whoaed',\n  'whole',\n  'wholesale',\n  'wholly',\n  'whom',\n  \"whoopin'\",\n  'whose',\n  'why'],\n 79)"
     },
     "execution_count": 60,
     "metadata": {},
     "output_type": "execute_result"
    }
   ],
   "source": [
    "k_gram_index = k_word_splitter(query, k_gram_dict)\n",
    "sorted(k_gram_index), len(k_gram_index)"
   ],
   "metadata": {
    "collapsed": false,
    "ExecuteTime": {
     "end_time": "2024-02-29T10:36:59.290684600Z",
     "start_time": "2024-02-29T10:36:59.029153Z"
    }
   },
   "id": "4b6e688bd6b017b7",
   "execution_count": 60
  },
  {
   "cell_type": "code",
   "outputs": [],
   "source": [],
   "metadata": {
    "collapsed": false
   },
   "id": "97ef13cbd9a53ea1"
  }
 ],
 "metadata": {
  "kernelspec": {
   "display_name": "Python 3",
   "language": "python",
   "name": "python3"
  },
  "language_info": {
   "codemirror_mode": {
    "name": "ipython",
    "version": 2
   },
   "file_extension": ".py",
   "mimetype": "text/x-python",
   "name": "python",
   "nbconvert_exporter": "python",
   "pygments_lexer": "ipython2",
   "version": "2.7.6"
  }
 },
 "nbformat": 4,
 "nbformat_minor": 5
}
