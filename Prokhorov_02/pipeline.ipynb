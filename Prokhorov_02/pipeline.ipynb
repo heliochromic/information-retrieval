{
 "cells": [
  {
   "cell_type": "markdown",
   "source": [],
   "metadata": {
    "collapsed": false
   },
   "id": "32ff610d234877ba"
  },
  {
   "cell_type": "markdown",
   "source": [
    "# Практичне 2. Булевий пошук #\n",
    "## Імпортування всіх потрібних бібліотек та функцій з `functions.py` ##"
   ],
   "metadata": {
    "collapsed": false
   },
   "id": "a7d8e422327a574e"
  },
  {
   "cell_type": "code",
   "outputs": [],
   "source": [
    "import os\n",
    "from file_parser import inverted_index, incidence_matrix, to_csv, to_dict, indices_to_list, index_to_list, stats\n",
    "from engine import InvertedSearch, IncidenceSearch"
   ],
   "metadata": {
    "collapsed": true,
    "ExecuteTime": {
     "end_time": "2024-02-16T13:40:15.628679300Z",
     "start_time": "2024-02-16T13:40:15.542620Z"
    }
   },
   "id": "initial_id",
   "execution_count": 21
  },
  {
   "cell_type": "markdown",
   "source": [
    "## Будування словника ##\n",
    "Отримання списку імен файлів у каталозі `texts`"
   ],
   "metadata": {
    "collapsed": false
   },
   "id": "470f1b424fd2d16d"
  },
  {
   "cell_type": "code",
   "outputs": [
    {
     "data": {
      "text/plain": "['7aarn10.txt',\n '7abam10.txt',\n '7abel10.txt',\n '7abgh10.txt',\n '7abpt10.txt',\n '7acet10.txt',\n '7act110.txt',\n '7act210.txt',\n '7act310.txt',\n '7act410.txt',\n '7adis10.txt',\n '7adlf10.txt',\n '7aesp10.txt',\n '7afas10.txt',\n '7afbl10.txt',\n '7afgh10.txt',\n '7aggr10.txt',\n '7agst10.txt',\n '7ajrn10.txt',\n '7allk10.txt',\n '7alon10.txt',\n '7altr10.txt',\n '7alyr10.txt',\n '7ambk10.txt',\n '7ambw10.txt',\n '7amin10.txt',\n '7amin11.txt',\n '7amjd10.txt',\n '7amor10.txt',\n '7amsc10.txt',\n '7ancf10.txt',\n '7anni10.txt',\n '7aph210.txt',\n '7apol10.txt',\n '7aqsb10.txt',\n '7arab10.txt',\n '7argo10.txt',\n '7arna10.txt',\n '7arno10.txt',\n '7aroo10.txt',\n '7arrv10.txt',\n '7artp10.txt',\n '7asmr10.txt',\n '7asth10.txt',\n '7atrs10.txt',\n '7augr10.txt',\n '7auld10.txt',\n '7bal110.txt',\n '7bal210.txt',\n '7bcil10.txt',\n '7bctr10.txt',\n '7bdsm10.txt',\n '7bhmk10.txt',\n '7bio110.txt',\n '7bird10.txt',\n '7bkft10.txt',\n '7bkwd10.txt',\n '7bld510.txt',\n '7blds10.txt',\n '7blgn10.txt',\n '7blj110.txt',\n '7blmn10.txt',\n '7blnf10.txt',\n '7blvr10.txt',\n '7bodr10.txt',\n '7bohm10.txt',\n '7born10.txt',\n '7bpt110.txt',\n '7brdz10.txt',\n '7breb10.txt',\n '7brew10.txt',\n '7brgh10.txt',\n '7brid10.txt',\n '7brwn10.txt',\n '7btrc10.txt',\n '7btst10.txt',\n '7bur110.txt',\n '7bur210.txt',\n '7bur310.txt',\n '7bwst10.txt',\n '7camb10.txt',\n '7camp10.txt',\n '7cave10.txt',\n '7ccid10.txt',\n '7cehs10.txt',\n '7cesr10.txt',\n '7cexp10.txt',\n '7ch0410.txt',\n '7char10.txt',\n '7chgs10.txt',\n '7chic10.txt',\n '7chld10.txt',\n '7chpm10.txt',\n '7chrs10.txt',\n '7chsn10.txt',\n '7chwr10.txt',\n '7cite10.txt',\n '7clev10.txt',\n '7clmb10.txt',\n '7cmar10.txt',\n '7cmis10.txt',\n '7cmpr10.txt',\n '7cndg10.txt',\n '7cnel10.txt',\n '7cngb10.txt',\n '7cnpj10.txt',\n '7coal10.txt',\n '7cole10.txt',\n '7conq10.txt',\n '7cord10.txt',\n '7coso10.txt',\n '7cpab10.txt',\n '7cplz10.txt',\n '7cpt110.txt',\n '7cpt210.txt',\n '7cptm10.txt',\n '7crlg10.txt',\n '7crot10.txt',\n '7csus10.txt',\n '7ctwc10.txt',\n '7cumb10.txt',\n '7cury10.txt',\n '7dame10.txt',\n '7dcrs10.txt',\n '7dcrt10.txt',\n '7dech10.txt',\n '7desp10.txt',\n '7dfry10.txt',\n '7dgfl10.txt',\n '7dhdm10.txt',\n '7djdn10.txt',\n '7dlee10.txt',\n '7dlek10.txt',\n '7dlif10.txt',\n '7dlk110.txt',\n '7dlk210.txt',\n '7dlqc10.txt',\n '7dogs10.txt',\n '7dpas10.txt',\n '7drev10.txt',\n '7drpm10.txt',\n '7drum10.txt',\n '7drvt10.txt',\n '7dsdn10.txt',\n '7dsrt10.txt',\n '7duke10.txt',\n '7east10.txt',\n '7ecce10.txt',\n '7edg110.txt',\n '7edg210.txt',\n '7efly10.txt',\n '7eftl10.txt',\n '7egpt10.txt',\n '7egrl10.txt',\n '7eins10.txt',\n '7eleg10.txt',\n '7elit10.txt',\n '7elld10.txt',\n '7ells10.txt',\n '7elnr10.txt',\n '7epar10.txt',\n '7epig10.txt',\n '7epnd10.txt',\n '7eras10.txt',\n '7erst10.txt',\n '7erth10.txt',\n '7erys10.txt',\n '7espr10.txt',\n '7ethc10.txt',\n '7euhs10.txt',\n '7eur310.txt',\n '7evds10.txt',\n '7ewam10.txt',\n '7exil10.txt',\n '7expr10.txt',\n '7expv10.txt',\n '7eynd10.txt',\n '7fabl10.txt',\n '7fanx10.txt',\n '7faqs10.txt',\n '7farh10.txt',\n '7fbln10.txt',\n '7fbrb10.txt',\n '7ffab10.txt',\n '7fgap10.txt',\n '7fire10.txt',\n '7flrd10.txt',\n '7flst10.txt',\n '7flyr10.txt',\n '7fmrn10.txt',\n '7fool10.txt',\n '7foun10.txt',\n '7frab10.txt',\n '7fran10.txt',\n '7frau10.txt',\n '7frcn10.txt',\n '7fren10.txt',\n '7frig10.txt',\n '7frog10.txt',\n '7frst10.txt',\n '7frtt10.txt',\n '7fsnd10.txt',\n '7fsti10.txt',\n '7ftls10.txt',\n '7gall10.txt',\n '7gbng10.txt',\n '7gbrt10.txt',\n '7gdct10.txt',\n '7gent10.txt',\n '7gentrev.txt',\n '7gesp10.txt',\n '7ghkg10.txt',\n '7gltt10.txt',\n '7glyr10.txt',\n '7gnwc10.txt',\n '7gold10.txt',\n '7gp0210.txt',\n '7gp0310.txt',\n '7grag10.txt',\n '7grcl10.txt',\n '7grdm10.txt',\n '7gred10.txt',\n '7grgp10.txt',\n '7griz10.txt',\n '7grkl10.txt',\n '7grm410.txt',\n '7gs0610.txt',\n '7gs1410.txt',\n '7gs1510.txt',\n '7gs1610a.txt',\n '7gs1710.txt',\n '7gs1910.txt',\n '7gs2110.txt',\n '7gs2610.txt',\n '7gs3110.txt',\n '7gs3310.txt',\n '7gs3410a.txt',\n '7gs3710.txt',\n '7gs4110.txt',\n '7gsfr10.txt',\n '7gtgd10.txt',\n '7gtry10.txt',\n '7gtzn10.txt',\n '7gulf10.txt',\n '7guyn10.txt',\n '7hana10.txt',\n '7hark10.txt',\n '7harq10.txt',\n '7hbow10.txt',\n '7hcal10.txt',\n '7hciv10.txt',\n '7hdel10.txt',\n '7hdit10.txt',\n '7hedg10.txt',\n '7hefr10.txt',\n '7heid10.txt',\n '7heid10a.txt',\n '7heln10.txt',\n '7heng10.txt',\n '7here10.txt',\n '7heys10.txt',\n '7hfld10.txt',\n '7hick10.txt',\n '7hid210.txt',\n '7hist10.txt',\n '7hk0210.txt',\n '7hk0310.txt',\n '7hk0410.txt',\n '7hk0510.txt',\n '7hk0610.txt',\n '7hk0710.txt',\n '7hmrp10.txt',\n '7hmrt10.txt',\n '7hndl10.txt',\n '7hnhr10.txt',\n '7hnr110.txt',\n '7hnr210.txt',\n '7hnt110.txt',\n '7hnt210.txt',\n '7hnt310.txt',\n '7home10.txt',\n '7homr10.txt',\n '7horm10.txt',\n '7hpnd10.txt',\n '7hrce10.txt',\n '7hsed10.txt',\n '7hsmn10.txt',\n '7hsrs10.txt',\n '7htwn10.txt',\n '7hugo10.txt',\n '7huld10.txt',\n '7hund10.txt',\n '7hzlm10.txt',\n '7iccr10.txt',\n '7igep10.txt',\n '7igjp10.txt',\n '7ilit10.txt',\n '7imay10.txt',\n '7indt10.txt',\n '7inph10.txt',\n '7insm10.txt',\n '7insn10.txt',\n '7isle10.txt',\n '7ivn110.txt',\n '7jafc10.txt',\n '7japn10.txt',\n '7jasn10.txt',\n '7jbar10.txt',\n '7jclr10.txt',\n '7jcr110.txt',\n '7jdtl10.txt',\n '7jean10.txt']"
     },
     "execution_count": 22,
     "metadata": {},
     "output_type": "execute_result"
    }
   ],
   "source": [
    "FILENAMES = os.listdir('./Dataset')\n",
    "FILENAMES"
   ],
   "metadata": {
    "collapsed": false,
    "ExecuteTime": {
     "end_time": "2024-02-16T13:40:15.657394600Z",
     "start_time": "2024-02-16T13:40:15.630682500Z"
    }
   },
   "id": "3a1566fba91fe49",
   "execution_count": 22
  },
  {
   "cell_type": "code",
   "outputs": [
    {
     "name": "stdout",
     "output_type": "stream",
     "text": [
      "number of file: 312\n"
     ]
    }
   ],
   "source": [
    "print(f'number of file: {len(FILENAMES)}')"
   ],
   "metadata": {
    "collapsed": false,
    "ExecuteTime": {
     "end_time": "2024-02-16T13:40:15.723002200Z",
     "start_time": "2024-02-16T13:40:15.663995200Z"
    }
   },
   "id": "fb3da3d4e94174ec",
   "execution_count": 23
  },
  {
   "cell_type": "markdown",
   "source": [
    "Виклик `incidence_matrix`, для побудови матриці інцидентності "
   ],
   "metadata": {
    "collapsed": false
   },
   "id": "4016c072ca22a724"
  },
  {
   "cell_type": "markdown",
   "source": [
    "Виклик `inverted_index`, для побудови матриці інцидентності"
   ],
   "metadata": {
    "collapsed": false
   },
   "id": "2e6ab3fff9115e0e"
  },
  {
   "cell_type": "code",
   "outputs": [],
   "source": [
    "if os.path.exists('incidence_matrix.csv'):\n",
    "    print('ok')\n",
    "    INCIDENCE_INDEX = to_dict(input_file='incidence_matrix.csv')\n",
    "else:\n",
    "    INCIDENCE_INDEX = incidence_matrix(filenames=FILENAMES, path='./Dataset')\n",
    "    to_csv(FILENAMES, INCIDENCE_INDEX, output_file='incidence_matrix.csv')"
   ],
   "metadata": {
    "collapsed": false,
    "ExecuteTime": {
     "end_time": "2024-02-16T13:41:50.413042700Z",
     "start_time": "2024-02-16T13:40:15.729558Z"
    }
   },
   "id": "2aa1832d47e72188",
   "execution_count": 24
  },
  {
   "cell_type": "code",
   "outputs": [],
   "source": [
    "if os.path.exists('inverted_matrix.csv'):\n",
    "    print('ok')\n",
    "    INVERTED_INDEX = to_dict(input_file='inverted_matrix.csv', column_names=False)\n",
    "else:\n",
    "    INVERTED_INDEX = inverted_index(filenames=FILENAMES, path='./Dataset')\n",
    "    to_csv(FILENAMES, INVERTED_INDEX, output_file='inverted_matrix.csv', column_names=False)"
   ],
   "metadata": {
    "collapsed": false,
    "ExecuteTime": {
     "end_time": "2024-02-16T13:43:30.438796Z",
     "start_time": "2024-02-16T13:41:50.431133300Z"
    }
   },
   "id": "6afa03df2919b775",
   "execution_count": 25
  },
  {
   "cell_type": "code",
   "outputs": [],
   "source": [
    "queries = [\n",
    "    \"apple OR banana OR orange OR kiwi\",\n",
    "    \"cat OR dog AND fish OR coquette\",\n",
    "    \"programming OR NOT C++ OR portland\",\n",
    "    \"action AND adventure\",\n",
    "    \"cat AND apple\"\n",
    "]"
   ],
   "metadata": {
    "collapsed": false,
    "ExecuteTime": {
     "end_time": "2024-02-16T13:43:30.454957300Z",
     "start_time": "2024-02-16T13:43:30.438796Z"
    }
   },
   "id": "ad550ad9f6b989b8",
   "execution_count": 26
  },
  {
   "cell_type": "code",
   "outputs": [
    {
     "name": "stdout",
     "output_type": "stream",
     "text": [
      "Function: search\n",
      "Took: 0.000080 seconds\n",
      "['7abpt10.txt', '7acet10.txt', '7afas10.txt', '7agst10.txt', '7ajrn10.txt', '7allk10.txt', '7alon10.txt', '7alyr10.txt', '7ambk10.txt', '7ambw10.txt', '7amor10.txt', '7aph210.txt', '7apol10.txt', '7arab10.txt', '7arna10.txt', '7asmr10.txt', '7auld10.txt', '7bcil10.txt', '7bio110.txt', '7bld510.txt', '7blgn10.txt', '7blj110.txt', '7blnf10.txt', '7bodr10.txt', '7bohm10.txt', '7born10.txt', '7breb10.txt', '7brid10.txt', '7brwn10.txt', '7btrc10.txt', '7bur110.txt', '7bur210.txt', '7bur310.txt', '7bwst10.txt', '7camb10.txt', '7camp10.txt', '7cave10.txt', '7cesr10.txt', '7cexp10.txt', '7chgs10.txt', '7chld10.txt', '7chrs10.txt', '7clev10.txt', '7clmb10.txt', '7cmar10.txt', '7cmpr10.txt', '7cnel10.txt', '7coal10.txt', '7conq10.txt', '7cplz10.txt', '7cptm10.txt', '7crot10.txt', '7csus10.txt', '7cumb10.txt', '7cury10.txt', '7dcrs10.txt', '7dfry10.txt', '7dlee10.txt', '7dlif10.txt', '7dlk210.txt', '7drpm10.txt', '7drum10.txt', '7dsrt10.txt', '7duke10.txt', '7edg110.txt', '7edg210.txt', '7eftl10.txt', '7egrl10.txt', '7elit10.txt', '7ells10.txt', '7elnr10.txt', '7epar10.txt', '7erth10.txt', '7erys10.txt', '7euhs10.txt', '7eur310.txt', '7ewam10.txt', '7expr10.txt', '7eynd10.txt', '7faqs10.txt', '7farh10.txt', '7ffab10.txt', '7fire10.txt', '7flrd10.txt', '7fmrn10.txt', '7fool10.txt', '7frab10.txt', '7fren10.txt', '7frst10.txt', '7frtt10.txt', '7fsnd10.txt', '7gall10.txt', '7gent10.txt', '7gentrev.txt', '7ghkg10.txt', '7glyr10.txt', '7gold10.txt', '7gp0210.txt', '7gp0310.txt', '7grdm10.txt', '7grgp10.txt', '7grm410.txt', '7gtry10.txt', '7gulf10.txt', '7guyn10.txt', '7hark10.txt', '7hbow10.txt', '7hcal10.txt', '7hdel10.txt', '7hdit10.txt', '7hedg10.txt', '7hefr10.txt', '7heln10.txt', '7here10.txt', '7hick10.txt', '7hist10.txt', '7hk0410.txt', '7hk0510.txt', '7hk0610.txt', '7hk0710.txt', '7hmrp10.txt', '7hmrt10.txt', '7hndl10.txt', '7hnr110.txt', '7hnt110.txt', '7hnt210.txt', '7hnt310.txt', '7home10.txt', '7horm10.txt', '7hpnd10.txt', '7hsed10.txt', '7hsmn10.txt', '7hsrs10.txt', '7htwn10.txt', '7hugo10.txt', '7hund10.txt', '7iccr10.txt', '7imay10.txt', '7indt10.txt', '7insn10.txt', '7ivn110.txt', '7jafc10.txt', '7jasn10.txt', '7jbar10.txt', '7jclr10.txt', '7jcr110.txt', '7jean10.txt']\n",
      "Function: search\n",
      "Took: 0.000154 seconds\n",
      "['7abgh10.txt', '7abpt10.txt', '7afas10.txt', '7aggr10.txt', '7agst10.txt', '7ajrn10.txt', '7allk10.txt', '7alon10.txt', '7altr10.txt', '7alyr10.txt', '7ambk10.txt', '7ambw10.txt', '7amin10.txt', '7amin11.txt', '7amor10.txt', '7aph210.txt', '7arab10.txt', '7aroo10.txt', '7asmr10.txt', '7augr10.txt', '7auld10.txt', '7bcil10.txt', '7bdsm10.txt', '7bhmk10.txt', '7bio110.txt', '7bkwd10.txt', '7blj110.txt', '7bodr10.txt', '7bohm10.txt', '7born10.txt', '7bpt110.txt', '7breb10.txt', '7brwn10.txt', '7bur210.txt', '7bur310.txt', '7bwst10.txt', '7camb10.txt', '7camp10.txt', '7cave10.txt', '7cehs10.txt', '7chgs10.txt', '7chic10.txt', '7chld10.txt', '7chpm10.txt', '7chrs10.txt', '7clev10.txt', '7clmb10.txt', '7cmar10.txt', '7cmpr10.txt', '7cngb10.txt', '7coal10.txt', '7cole10.txt', '7cord10.txt', '7coso10.txt', '7cpab10.txt', '7cplz10.txt', '7cpt110.txt', '7cpt210.txt', '7cptm10.txt', '7crot10.txt', '7dcrs10.txt', '7desp10.txt', '7dfry10.txt', '7dlee10.txt', '7dlk110.txt', '7dlk210.txt', '7dogs10.txt', '7dpas10.txt', '7drpm10.txt', '7duke10.txt', '7east10.txt', '7edg110.txt', '7edg210.txt', '7efly10.txt', '7eftl10.txt', '7egpt10.txt', '7egrl10.txt', '7elit10.txt', '7elld10.txt', '7elnr10.txt', '7epar10.txt', '7erth10.txt', '7ethc10.txt', '7euhs10.txt', '7evds10.txt', '7ewam10.txt', '7exil10.txt', '7expr10.txt', '7eynd10.txt', '7fanx10.txt', '7faqs10.txt', '7farh10.txt', '7ffab10.txt', '7fire10.txt', '7flrd10.txt', '7flst10.txt', '7fmrn10.txt', '7fool10.txt', '7foun10.txt', '7frcn10.txt', '7frog10.txt', '7frst10.txt', '7fsnd10.txt', '7fsti10.txt', '7gall10.txt', '7gbng10.txt', '7gent10.txt', '7gentrev.txt', '7ghkg10.txt', '7glyr10.txt', '7gold10.txt', '7gp0210.txt', '7gp0310.txt', '7grdm10.txt', '7gred10.txt', '7grgp10.txt', '7griz10.txt', '7gtgd10.txt', '7gtry10.txt', '7gulf10.txt', '7guyn10.txt', '7hark10.txt', '7hbow10.txt', '7hcal10.txt', '7hciv10.txt', '7hdel10.txt', '7hdit10.txt', '7hedg10.txt', '7hefr10.txt', '7heln10.txt', '7here10.txt', '7hfld10.txt', '7hick10.txt', '7hk0410.txt', '7hk0510.txt', '7hk0710.txt', '7hmrp10.txt', '7hmrt10.txt', '7hnr110.txt', '7hnr210.txt', '7hnt110.txt', '7hnt210.txt', '7hnt310.txt', '7horm10.txt', '7hpnd10.txt', '7hrce10.txt', '7hsed10.txt', '7hsmn10.txt', '7htwn10.txt', '7hugo10.txt', '7igjp10.txt', '7indt10.txt', '7inph10.txt', '7insn10.txt', '7isle10.txt', '7ivn110.txt', '7jafc10.txt', '7jclr10.txt', '7jcr110.txt', '7jean10.txt']\n",
      "Function: search\n",
      "Took: 0.000066 seconds\n",
      "[]\n",
      "Function: search\n",
      "Took: 0.000179 seconds\n",
      "['7afas10.txt', '7afgh10.txt', '7agst10.txt', '7ajrn10.txt', '7allk10.txt', '7alon10.txt', '7ambk10.txt', '7amin10.txt', '7amin11.txt', '7amor10.txt', '7aph210.txt', '7arab10.txt', '7aroo10.txt', '7artp10.txt', '7augr10.txt', '7bcil10.txt', '7bio110.txt', '7bkwd10.txt', '7blnf10.txt', '7bodr10.txt', '7bohm10.txt', '7born10.txt', '7bpt110.txt', '7brwn10.txt', '7btst10.txt', '7bur110.txt', '7bur310.txt', '7bwst10.txt', '7camb10.txt', '7cave10.txt', '7cehs10.txt', '7cesr10.txt', '7ch0410.txt', '7chgs10.txt', '7chic10.txt', '7chld10.txt', '7chrs10.txt', '7clev10.txt', '7clmb10.txt', '7cmpr10.txt', '7cnel10.txt', '7cngb10.txt', '7cnpj10.txt', '7coal10.txt', '7conq10.txt', '7cord10.txt', '7coso10.txt', '7cpab10.txt', '7cptm10.txt', '7crlg10.txt', '7crot10.txt', '7cumb10.txt', '7dcrs10.txt', '7desp10.txt', '7dlee10.txt', '7dlk110.txt', '7dlk210.txt', '7east10.txt', '7edg110.txt', '7edg210.txt', '7egrl10.txt', '7elit10.txt', '7ells10.txt', '7elnr10.txt', '7epig10.txt', '7erth10.txt', '7euhs10.txt', '7ewam10.txt', '7expr10.txt', '7fanx10.txt', '7faqs10.txt', '7farh10.txt', '7ffab10.txt', '7fire10.txt', '7flst10.txt', '7foun10.txt', '7frcn10.txt', '7frst10.txt', '7frtt10.txt', '7fsti10.txt', '7gall10.txt', '7gbng10.txt', '7gent10.txt', '7gentrev.txt', '7ghkg10.txt', '7gltt10.txt', '7glyr10.txt', '7gold10.txt', '7gp0210.txt', '7grag10.txt', '7gred10.txt', '7gtgd10.txt', '7gtry10.txt', '7gulf10.txt', '7guyn10.txt', '7hark10.txt', '7harq10.txt', '7hbow10.txt', '7hcal10.txt', '7hciv10.txt', '7hdel10.txt', '7hedg10.txt', '7heln10.txt', '7heng10.txt', '7here10.txt', '7hfld10.txt', '7hick10.txt', '7hist10.txt', '7hk0410.txt', '7hmrt10.txt', '7hndl10.txt', '7hnr110.txt', '7hnr210.txt', '7hnt210.txt', '7home10.txt', '7homr10.txt', '7hsed10.txt', '7htwn10.txt', '7hugo10.txt', '7ilit10.txt', '7imay10.txt', '7indt10.txt', '7insm10.txt', '7isle10.txt', '7ivn110.txt', '7jafc10.txt', '7jasn10.txt', '7jcr110.txt', '7jean10.txt']\n",
      "Function: search\n",
      "Took: 0.000047 seconds\n",
      "['7abpt10.txt', '7afas10.txt', '7ajrn10.txt', '7allk10.txt', '7alon10.txt', '7ambk10.txt', '7ambw10.txt', '7arna10.txt', '7asmr10.txt', '7auld10.txt', '7bcil10.txt', '7blj110.txt', '7brwn10.txt', '7chgs10.txt', '7chld10.txt', '7chrs10.txt', '7cmar10.txt', '7cmpr10.txt', '7cnel10.txt', '7cptm10.txt', '7crot10.txt', '7cumb10.txt', '7dfry10.txt', '7dlee10.txt', '7dlk210.txt', '7drpm10.txt', '7dsrt10.txt', '7duke10.txt', '7elit10.txt', '7ells10.txt', '7faqs10.txt', '7ffab10.txt', '7fire10.txt', '7fool10.txt', '7fren10.txt', '7frst10.txt', '7frtt10.txt', '7gall10.txt', '7gent10.txt', '7gentrev.txt', '7ghkg10.txt', '7gp0210.txt', '7gp0310.txt', '7gtry10.txt', '7gulf10.txt', '7hbow10.txt', '7hedg10.txt', '7here10.txt', '7hk0410.txt', '7hk0510.txt', '7hmrp10.txt', '7hmrt10.txt', '7hnt110.txt', '7hnt210.txt', '7home10.txt', '7hpnd10.txt', '7htwn10.txt', '7imay10.txt', '7indt10.txt', '7insn10.txt', '7ivn110.txt', '7jafc10.txt', '7jbar10.txt', '7jclr10.txt', '7jcr110.txt', '7jean10.txt']\n"
     ]
    }
   ],
   "source": [
    "inverted_search = InvertedSearch(len(FILENAMES))\n",
    "\n",
    "for query in queries:\n",
    "    print(index_to_list(FILENAMES, inverted_search.search(query, INVERTED_INDEX)))"
   ],
   "metadata": {
    "collapsed": false,
    "ExecuteTime": {
     "end_time": "2024-02-16T13:43:30.458492400Z",
     "start_time": "2024-02-16T13:43:30.447157500Z"
    }
   },
   "id": "4f9f7b18f6ca84cf",
   "execution_count": 27
  },
  {
   "cell_type": "code",
   "outputs": [
    {
     "name": "stdout",
     "output_type": "stream",
     "text": [
      "Function: search\n",
      "Took: 0.000202 seconds\n",
      "['7abpt10.txt', '7acet10.txt', '7afas10.txt', '7agst10.txt', '7ajrn10.txt', '7allk10.txt', '7alon10.txt', '7alyr10.txt', '7ambk10.txt', '7ambw10.txt', '7amor10.txt', '7aph210.txt', '7apol10.txt', '7arab10.txt', '7arna10.txt', '7asmr10.txt', '7auld10.txt', '7bcil10.txt', '7bio110.txt', '7bld510.txt', '7blgn10.txt', '7blj110.txt', '7blnf10.txt', '7bodr10.txt', '7bohm10.txt', '7born10.txt', '7breb10.txt', '7brid10.txt', '7brwn10.txt', '7btrc10.txt', '7bur110.txt', '7bur210.txt', '7bur310.txt', '7bwst10.txt', '7camb10.txt', '7camp10.txt', '7cave10.txt', '7cesr10.txt', '7cexp10.txt', '7chgs10.txt', '7chld10.txt', '7chrs10.txt', '7clev10.txt', '7clmb10.txt', '7cmar10.txt', '7cmpr10.txt', '7cnel10.txt', '7coal10.txt', '7conq10.txt', '7cplz10.txt', '7cptm10.txt', '7crot10.txt', '7csus10.txt', '7cumb10.txt', '7cury10.txt', '7dcrs10.txt', '7dfry10.txt', '7dlee10.txt', '7dlif10.txt', '7dlk210.txt', '7drpm10.txt', '7drum10.txt', '7dsrt10.txt', '7duke10.txt', '7edg110.txt', '7edg210.txt', '7eftl10.txt', '7egrl10.txt', '7elit10.txt', '7ells10.txt', '7elnr10.txt', '7epar10.txt', '7erth10.txt', '7erys10.txt', '7euhs10.txt', '7eur310.txt', '7ewam10.txt', '7expr10.txt', '7eynd10.txt', '7faqs10.txt', '7farh10.txt', '7ffab10.txt', '7fire10.txt', '7flrd10.txt', '7fmrn10.txt', '7fool10.txt', '7frab10.txt', '7fren10.txt', '7frst10.txt', '7frtt10.txt', '7fsnd10.txt', '7gall10.txt', '7gent10.txt', '7gentrev.txt', '7ghkg10.txt', '7glyr10.txt', '7gold10.txt', '7gp0210.txt', '7gp0310.txt', '7grdm10.txt', '7grgp10.txt', '7grm410.txt', '7gtry10.txt', '7gulf10.txt', '7guyn10.txt', '7hark10.txt', '7hbow10.txt', '7hcal10.txt', '7hdel10.txt', '7hdit10.txt', '7hedg10.txt', '7hefr10.txt', '7heln10.txt', '7here10.txt', '7hick10.txt', '7hist10.txt', '7hk0410.txt', '7hk0510.txt', '7hk0610.txt', '7hk0710.txt', '7hmrp10.txt', '7hmrt10.txt', '7hndl10.txt', '7hnr110.txt', '7hnt110.txt', '7hnt210.txt', '7hnt310.txt', '7home10.txt', '7horm10.txt', '7hpnd10.txt', '7hsed10.txt', '7hsmn10.txt', '7hsrs10.txt', '7htwn10.txt', '7hugo10.txt', '7hund10.txt', '7iccr10.txt', '7imay10.txt', '7indt10.txt', '7insn10.txt', '7ivn110.txt', '7jafc10.txt', '7jasn10.txt', '7jbar10.txt', '7jclr10.txt', '7jcr110.txt', '7jean10.txt']\n",
      "Function: search\n",
      "Took: 0.000197 seconds\n",
      "['7abgh10.txt', '7abpt10.txt', '7afas10.txt', '7aggr10.txt', '7agst10.txt', '7ajrn10.txt', '7allk10.txt', '7alon10.txt', '7altr10.txt', '7alyr10.txt', '7ambk10.txt', '7ambw10.txt', '7amin10.txt', '7amin11.txt', '7amor10.txt', '7aph210.txt', '7arab10.txt', '7aroo10.txt', '7asmr10.txt', '7augr10.txt', '7auld10.txt', '7bcil10.txt', '7bdsm10.txt', '7bhmk10.txt', '7bio110.txt', '7bkwd10.txt', '7blj110.txt', '7bodr10.txt', '7bohm10.txt', '7born10.txt', '7bpt110.txt', '7breb10.txt', '7brwn10.txt', '7bur210.txt', '7bur310.txt', '7bwst10.txt', '7camb10.txt', '7camp10.txt', '7cave10.txt', '7cehs10.txt', '7chgs10.txt', '7chic10.txt', '7chld10.txt', '7chpm10.txt', '7chrs10.txt', '7clev10.txt', '7clmb10.txt', '7cmar10.txt', '7cmpr10.txt', '7cngb10.txt', '7coal10.txt', '7cole10.txt', '7cord10.txt', '7coso10.txt', '7cpab10.txt', '7cplz10.txt', '7cpt110.txt', '7cpt210.txt', '7cptm10.txt', '7crot10.txt', '7dcrs10.txt', '7desp10.txt', '7dfry10.txt', '7dlee10.txt', '7dlk110.txt', '7dlk210.txt', '7dogs10.txt', '7dpas10.txt', '7drpm10.txt', '7duke10.txt', '7east10.txt', '7edg110.txt', '7edg210.txt', '7efly10.txt', '7eftl10.txt', '7egpt10.txt', '7egrl10.txt', '7elit10.txt', '7elld10.txt', '7elnr10.txt', '7epar10.txt', '7erth10.txt', '7ethc10.txt', '7euhs10.txt', '7evds10.txt', '7ewam10.txt', '7exil10.txt', '7expr10.txt', '7eynd10.txt', '7fanx10.txt', '7faqs10.txt', '7farh10.txt', '7ffab10.txt', '7fire10.txt', '7flrd10.txt', '7flst10.txt', '7fmrn10.txt', '7fool10.txt', '7foun10.txt', '7frcn10.txt', '7frog10.txt', '7frst10.txt', '7fsnd10.txt', '7fsti10.txt', '7gall10.txt', '7gbng10.txt', '7gent10.txt', '7gentrev.txt', '7ghkg10.txt', '7glyr10.txt', '7gold10.txt', '7gp0210.txt', '7gp0310.txt', '7grdm10.txt', '7gred10.txt', '7grgp10.txt', '7griz10.txt', '7gtgd10.txt', '7gtry10.txt', '7gulf10.txt', '7guyn10.txt', '7hark10.txt', '7hbow10.txt', '7hcal10.txt', '7hciv10.txt', '7hdel10.txt', '7hdit10.txt', '7hedg10.txt', '7hefr10.txt', '7heln10.txt', '7here10.txt', '7hfld10.txt', '7hick10.txt', '7hk0410.txt', '7hk0510.txt', '7hk0710.txt', '7hmrp10.txt', '7hmrt10.txt', '7hnr110.txt', '7hnr210.txt', '7hnt110.txt', '7hnt210.txt', '7hnt310.txt', '7horm10.txt', '7hpnd10.txt', '7hrce10.txt', '7hsed10.txt', '7hsmn10.txt', '7htwn10.txt', '7hugo10.txt', '7igjp10.txt', '7indt10.txt', '7inph10.txt', '7insn10.txt', '7isle10.txt', '7ivn110.txt', '7jafc10.txt', '7jclr10.txt', '7jcr110.txt', '7jean10.txt']\n",
      "Function: search\n",
      "Took: 0.000094 seconds\n",
      "[]\n",
      "Function: search\n",
      "Took: 0.000054 seconds\n",
      "['7afas10.txt', '7afgh10.txt', '7agst10.txt', '7ajrn10.txt', '7allk10.txt', '7alon10.txt', '7ambk10.txt', '7amin10.txt', '7amin11.txt', '7amor10.txt', '7aph210.txt', '7arab10.txt', '7aroo10.txt', '7artp10.txt', '7augr10.txt', '7bcil10.txt', '7bio110.txt', '7bkwd10.txt', '7blnf10.txt', '7bodr10.txt', '7bohm10.txt', '7born10.txt', '7bpt110.txt', '7brwn10.txt', '7btst10.txt', '7bur110.txt', '7bur310.txt', '7bwst10.txt', '7camb10.txt', '7cave10.txt', '7cehs10.txt', '7cesr10.txt', '7ch0410.txt', '7chgs10.txt', '7chic10.txt', '7chld10.txt', '7chrs10.txt', '7clev10.txt', '7clmb10.txt', '7cmpr10.txt', '7cnel10.txt', '7cngb10.txt', '7cnpj10.txt', '7coal10.txt', '7conq10.txt', '7cord10.txt', '7coso10.txt', '7cpab10.txt', '7cptm10.txt', '7crlg10.txt', '7crot10.txt', '7cumb10.txt', '7dcrs10.txt', '7desp10.txt', '7dlee10.txt', '7dlk110.txt', '7dlk210.txt', '7east10.txt', '7edg110.txt', '7edg210.txt', '7egrl10.txt', '7elit10.txt', '7ells10.txt', '7elnr10.txt', '7epig10.txt', '7erth10.txt', '7euhs10.txt', '7ewam10.txt', '7expr10.txt', '7fanx10.txt', '7faqs10.txt', '7farh10.txt', '7ffab10.txt', '7fire10.txt', '7flst10.txt', '7foun10.txt', '7frcn10.txt', '7frst10.txt', '7frtt10.txt', '7fsti10.txt', '7gall10.txt', '7gbng10.txt', '7gent10.txt', '7gentrev.txt', '7ghkg10.txt', '7gltt10.txt', '7glyr10.txt', '7gold10.txt', '7gp0210.txt', '7grag10.txt', '7gred10.txt', '7gtgd10.txt', '7gtry10.txt', '7gulf10.txt', '7guyn10.txt', '7hark10.txt', '7harq10.txt', '7hbow10.txt', '7hcal10.txt', '7hciv10.txt', '7hdel10.txt', '7hedg10.txt', '7heln10.txt', '7heng10.txt', '7here10.txt', '7hfld10.txt', '7hick10.txt', '7hist10.txt', '7hk0410.txt', '7hmrt10.txt', '7hndl10.txt', '7hnr110.txt', '7hnr210.txt', '7hnt210.txt', '7home10.txt', '7homr10.txt', '7hsed10.txt', '7htwn10.txt', '7hugo10.txt', '7ilit10.txt', '7imay10.txt', '7indt10.txt', '7insm10.txt', '7isle10.txt', '7ivn110.txt', '7jafc10.txt', '7jasn10.txt', '7jcr110.txt', '7jean10.txt']\n",
      "Function: search\n",
      "Took: 0.000046 seconds\n",
      "['7abpt10.txt', '7afas10.txt', '7ajrn10.txt', '7allk10.txt', '7alon10.txt', '7ambk10.txt', '7ambw10.txt', '7arna10.txt', '7asmr10.txt', '7auld10.txt', '7bcil10.txt', '7blj110.txt', '7brwn10.txt', '7chgs10.txt', '7chld10.txt', '7chrs10.txt', '7cmar10.txt', '7cmpr10.txt', '7cnel10.txt', '7cptm10.txt', '7crot10.txt', '7cumb10.txt', '7dfry10.txt', '7dlee10.txt', '7dlk210.txt', '7drpm10.txt', '7dsrt10.txt', '7duke10.txt', '7elit10.txt', '7ells10.txt', '7faqs10.txt', '7ffab10.txt', '7fire10.txt', '7fool10.txt', '7fren10.txt', '7frst10.txt', '7frtt10.txt', '7gall10.txt', '7gent10.txt', '7gentrev.txt', '7ghkg10.txt', '7gp0210.txt', '7gp0310.txt', '7gtry10.txt', '7gulf10.txt', '7hbow10.txt', '7hedg10.txt', '7here10.txt', '7hk0410.txt', '7hk0510.txt', '7hmrp10.txt', '7hmrt10.txt', '7hnt110.txt', '7hnt210.txt', '7home10.txt', '7hpnd10.txt', '7htwn10.txt', '7imay10.txt', '7indt10.txt', '7insn10.txt', '7ivn110.txt', '7jafc10.txt', '7jbar10.txt', '7jclr10.txt', '7jcr110.txt', '7jean10.txt']\n"
     ]
    }
   ],
   "source": [
    "incidence_search = IncidenceSearch(len(FILENAMES))\n",
    "\n",
    "for query in queries:\n",
    "    print(indices_to_list(FILENAMES, incidence_search.search(query, INCIDENCE_INDEX)))"
   ],
   "metadata": {
    "collapsed": false,
    "ExecuteTime": {
     "end_time": "2024-02-16T13:43:30.542149400Z",
     "start_time": "2024-02-16T13:43:30.455968500Z"
    }
   },
   "id": "9fa50fcf4ce84f6a",
   "execution_count": 28
  },
  {
   "cell_type": "code",
   "outputs": [
    {
     "name": "stdout",
     "output_type": "stream",
     "text": [
      "Filename             : incidence_matrix.csv\n",
      "Collection size      : 265.3277Mb\n",
      "Unique number words  : 438309\n"
     ]
    }
   ],
   "source": [
    "stats('incidence_matrix.csv', INCIDENCE_INDEX)"
   ],
   "metadata": {
    "collapsed": false,
    "ExecuteTime": {
     "end_time": "2024-02-16T13:43:31.529575500Z",
     "start_time": "2024-02-16T13:43:30.471758300Z"
    }
   },
   "id": "eee16f623e819b8d",
   "execution_count": 29
  },
  {
   "cell_type": "code",
   "outputs": [
    {
     "name": "stdout",
     "output_type": "stream",
     "text": [
      "Filename             : inverted_matrix.csv\n",
      "Collection size      : 13.3779Mb\n",
      "Unique number words  : 438309\n"
     ]
    }
   ],
   "source": [
    "stats('inverted_matrix.csv', INVERTED_INDEX)"
   ],
   "metadata": {
    "collapsed": false,
    "ExecuteTime": {
     "end_time": "2024-02-16T13:43:31.997424700Z",
     "start_time": "2024-02-16T13:43:31.517507Z"
    }
   },
   "id": "283da080cf3d825",
   "execution_count": 30
  },
  {
   "cell_type": "code",
   "outputs": [],
   "source": [],
   "metadata": {
    "collapsed": false,
    "ExecuteTime": {
     "end_time": "2024-02-16T13:43:31.998424600Z",
     "start_time": "2024-02-16T13:43:31.983637900Z"
    }
   },
   "id": "379879c16f0456aa",
   "execution_count": 30
  }
 ],
 "metadata": {
  "kernelspec": {
   "display_name": "Python 3",
   "language": "python",
   "name": "python3"
  },
  "language_info": {
   "codemirror_mode": {
    "name": "ipython",
    "version": 2
   },
   "file_extension": ".py",
   "mimetype": "text/x-python",
   "name": "python",
   "nbconvert_exporter": "python",
   "pygments_lexer": "ipython2",
   "version": "2.7.6"
  }
 },
 "nbformat": 4,
 "nbformat_minor": 5
}
